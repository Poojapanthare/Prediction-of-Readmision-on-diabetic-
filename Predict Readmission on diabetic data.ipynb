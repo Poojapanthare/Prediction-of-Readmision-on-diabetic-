{
 "cells": [
  {
   "cell_type": "markdown",
   "metadata": {},
   "source": [
    "Loading the data"
   ]
  },
  {
   "cell_type": "code",
   "execution_count": 16,
   "metadata": {},
   "outputs": [],
   "source": [
    "# Import libraries needed,\n",
    "import IPython\n",
    "import pandas as pd\n",
    "import numpy as np\n",
    "from sklearn.preprocessing import MinMaxScaler\n",
    "import matplotlib.pyplot as plt\n",
    "from statistics import mode\n",
    "import seaborn as sns"
   ]
  },
  {
   "cell_type": "code",
   "execution_count": 3,
   "metadata": {},
   "outputs": [
    {
     "name": "stdout",
     "output_type": "stream",
     "text": [
      "(101766, 50)\n",
      "<class 'pandas.core.frame.DataFrame'>\n",
      "RangeIndex: 101766 entries, 0 to 101765\n",
      "Data columns (total 50 columns):\n",
      "encounter_id                101766 non-null int64\n",
      "patient_nbr                 101766 non-null int64\n",
      "race                        101766 non-null object\n",
      "gender                      101766 non-null object\n",
      "age                         101766 non-null object\n",
      "weight                      101766 non-null object\n",
      "admission_type_id           101766 non-null int64\n",
      "discharge_disposition_id    101766 non-null int64\n",
      "admission_source_id         101766 non-null int64\n",
      "time_in_hospital            101766 non-null int64\n",
      "payer_code                  101766 non-null object\n",
      "medical_specialty           101766 non-null object\n",
      "num_lab_procedures          101766 non-null int64\n",
      "num_procedures              101766 non-null int64\n",
      "num_medications             101766 non-null int64\n",
      "number_outpatient           101766 non-null int64\n",
      "number_emergency            101766 non-null int64\n",
      "number_inpatient            101766 non-null int64\n",
      "diag_1                      101766 non-null object\n",
      "diag_2                      101766 non-null object\n",
      "diag_3                      101766 non-null object\n",
      "number_diagnoses            101766 non-null int64\n",
      "max_glu_serum               101766 non-null object\n",
      "A1Cresult                   101766 non-null object\n",
      "metformin                   101766 non-null object\n",
      "repaglinide                 101766 non-null object\n",
      "nateglinide                 101766 non-null object\n",
      "chlorpropamide              101766 non-null object\n",
      "glimepiride                 101766 non-null object\n",
      "acetohexamide               101766 non-null object\n",
      "glipizide                   101766 non-null object\n",
      "glyburide                   101766 non-null object\n",
      "tolbutamide                 101766 non-null object\n",
      "pioglitazone                101766 non-null object\n",
      "rosiglitazone               101766 non-null object\n",
      "acarbose                    101766 non-null object\n",
      "miglitol                    101766 non-null object\n",
      "troglitazone                101766 non-null object\n",
      "tolazamide                  101766 non-null object\n",
      "examide                     101766 non-null object\n",
      "citoglipton                 101766 non-null object\n",
      "insulin                     101766 non-null object\n",
      "glyburide-metformin         101766 non-null object\n",
      "glipizide-metformin         101766 non-null object\n",
      "glimepiride-pioglitazone    101766 non-null object\n",
      "metformin-rosiglitazone     101766 non-null object\n",
      "metformin-pioglitazone      101766 non-null object\n",
      "change                      101766 non-null object\n",
      "diabetesMed                 101766 non-null object\n",
      "readmitted                  101766 non-null object\n",
      "dtypes: int64(13), object(37)\n",
      "memory usage: 38.8+ MB\n",
      "None\n",
      "       encounter_id   patient_nbr  admission_type_id  \\\n",
      "count  1.017660e+05  1.017660e+05      101766.000000   \n",
      "mean   1.652016e+08  5.433040e+07           2.024006   \n",
      "std    1.026403e+08  3.869636e+07           1.445403   \n",
      "min    1.252200e+04  1.350000e+02           1.000000   \n",
      "25%    8.496119e+07  2.341322e+07           1.000000   \n",
      "50%    1.523890e+08  4.550514e+07           1.000000   \n",
      "75%    2.302709e+08  8.754595e+07           3.000000   \n",
      "max    4.438672e+08  1.895026e+08           8.000000   \n",
      "\n",
      "       discharge_disposition_id  admission_source_id  time_in_hospital  \\\n",
      "count             101766.000000        101766.000000     101766.000000   \n",
      "mean                   3.715642             5.754437          4.395987   \n",
      "std                    5.280166             4.064081          2.985108   \n",
      "min                    1.000000             1.000000          1.000000   \n",
      "25%                    1.000000             1.000000          2.000000   \n",
      "50%                    1.000000             7.000000          4.000000   \n",
      "75%                    4.000000             7.000000          6.000000   \n",
      "max                   28.000000            25.000000         14.000000   \n",
      "\n",
      "       num_lab_procedures  num_procedures  num_medications  number_outpatient  \\\n",
      "count       101766.000000   101766.000000    101766.000000      101766.000000   \n",
      "mean            43.095641        1.339730        16.021844           0.369357   \n",
      "std             19.674362        1.705807         8.127566           1.267265   \n",
      "min              1.000000        0.000000         1.000000           0.000000   \n",
      "25%             31.000000        0.000000        10.000000           0.000000   \n",
      "50%             44.000000        1.000000        15.000000           0.000000   \n",
      "75%             57.000000        2.000000        20.000000           0.000000   \n",
      "max            132.000000        6.000000        81.000000          42.000000   \n",
      "\n",
      "       number_emergency  number_inpatient  number_diagnoses  \n",
      "count     101766.000000     101766.000000     101766.000000  \n",
      "mean           0.197836          0.635566          7.422607  \n",
      "std            0.930472          1.262863          1.933600  \n",
      "min            0.000000          0.000000          1.000000  \n",
      "25%            0.000000          0.000000          6.000000  \n",
      "50%            0.000000          0.000000          8.000000  \n",
      "75%            0.000000          1.000000          9.000000  \n",
      "max           76.000000         21.000000         16.000000  \n"
     ]
    }
   ],
   "source": [
    "#Loading the data using pandas,\n",
    "dataoriginal = pd.read_csv('C:/Users/Pooja Panthare/Desktop/diabetic_data.csv')\n",
    "print(dataoriginal.shape)\n",
    "\n",
    "#Exploring the data further,\n",
    "print(dataoriginal.info())\n",
    "print(dataoriginal.describe())"
   ]
  },
  {
   "cell_type": "code",
   "execution_count": 4,
   "metadata": {},
   "outputs": [
    {
     "data": {
      "text/html": [
       "<div>\n",
       "<style scoped>\n",
       "    .dataframe tbody tr th:only-of-type {\n",
       "        vertical-align: middle;\n",
       "    }\n",
       "\n",
       "    .dataframe tbody tr th {\n",
       "        vertical-align: top;\n",
       "    }\n",
       "\n",
       "    .dataframe thead th {\n",
       "        text-align: right;\n",
       "    }\n",
       "</style>\n",
       "<table border=\"1\" class=\"dataframe\">\n",
       "  <thead>\n",
       "    <tr style=\"text-align: right;\">\n",
       "      <th></th>\n",
       "      <th>encounter_id</th>\n",
       "      <th>patient_nbr</th>\n",
       "      <th>race</th>\n",
       "      <th>gender</th>\n",
       "      <th>age</th>\n",
       "      <th>weight</th>\n",
       "      <th>admission_type_id</th>\n",
       "      <th>discharge_disposition_id</th>\n",
       "      <th>admission_source_id</th>\n",
       "      <th>time_in_hospital</th>\n",
       "      <th>...</th>\n",
       "      <th>citoglipton</th>\n",
       "      <th>insulin</th>\n",
       "      <th>glyburide-metformin</th>\n",
       "      <th>glipizide-metformin</th>\n",
       "      <th>glimepiride-pioglitazone</th>\n",
       "      <th>metformin-rosiglitazone</th>\n",
       "      <th>metformin-pioglitazone</th>\n",
       "      <th>change</th>\n",
       "      <th>diabetesMed</th>\n",
       "      <th>readmitted</th>\n",
       "    </tr>\n",
       "  </thead>\n",
       "  <tbody>\n",
       "    <tr>\n",
       "      <th>0</th>\n",
       "      <td>2278392</td>\n",
       "      <td>8222157</td>\n",
       "      <td>Caucasian</td>\n",
       "      <td>Female</td>\n",
       "      <td>[0-10)</td>\n",
       "      <td>?</td>\n",
       "      <td>6</td>\n",
       "      <td>25</td>\n",
       "      <td>1</td>\n",
       "      <td>1</td>\n",
       "      <td>...</td>\n",
       "      <td>No</td>\n",
       "      <td>No</td>\n",
       "      <td>No</td>\n",
       "      <td>No</td>\n",
       "      <td>No</td>\n",
       "      <td>No</td>\n",
       "      <td>No</td>\n",
       "      <td>No</td>\n",
       "      <td>No</td>\n",
       "      <td>NO</td>\n",
       "    </tr>\n",
       "    <tr>\n",
       "      <th>1</th>\n",
       "      <td>149190</td>\n",
       "      <td>55629189</td>\n",
       "      <td>Caucasian</td>\n",
       "      <td>Female</td>\n",
       "      <td>[10-20)</td>\n",
       "      <td>?</td>\n",
       "      <td>1</td>\n",
       "      <td>1</td>\n",
       "      <td>7</td>\n",
       "      <td>3</td>\n",
       "      <td>...</td>\n",
       "      <td>No</td>\n",
       "      <td>Up</td>\n",
       "      <td>No</td>\n",
       "      <td>No</td>\n",
       "      <td>No</td>\n",
       "      <td>No</td>\n",
       "      <td>No</td>\n",
       "      <td>Ch</td>\n",
       "      <td>Yes</td>\n",
       "      <td>&gt;30</td>\n",
       "    </tr>\n",
       "    <tr>\n",
       "      <th>2</th>\n",
       "      <td>64410</td>\n",
       "      <td>86047875</td>\n",
       "      <td>AfricanAmerican</td>\n",
       "      <td>Female</td>\n",
       "      <td>[20-30)</td>\n",
       "      <td>?</td>\n",
       "      <td>1</td>\n",
       "      <td>1</td>\n",
       "      <td>7</td>\n",
       "      <td>2</td>\n",
       "      <td>...</td>\n",
       "      <td>No</td>\n",
       "      <td>No</td>\n",
       "      <td>No</td>\n",
       "      <td>No</td>\n",
       "      <td>No</td>\n",
       "      <td>No</td>\n",
       "      <td>No</td>\n",
       "      <td>No</td>\n",
       "      <td>Yes</td>\n",
       "      <td>NO</td>\n",
       "    </tr>\n",
       "    <tr>\n",
       "      <th>3</th>\n",
       "      <td>500364</td>\n",
       "      <td>82442376</td>\n",
       "      <td>Caucasian</td>\n",
       "      <td>Male</td>\n",
       "      <td>[30-40)</td>\n",
       "      <td>?</td>\n",
       "      <td>1</td>\n",
       "      <td>1</td>\n",
       "      <td>7</td>\n",
       "      <td>2</td>\n",
       "      <td>...</td>\n",
       "      <td>No</td>\n",
       "      <td>Up</td>\n",
       "      <td>No</td>\n",
       "      <td>No</td>\n",
       "      <td>No</td>\n",
       "      <td>No</td>\n",
       "      <td>No</td>\n",
       "      <td>Ch</td>\n",
       "      <td>Yes</td>\n",
       "      <td>NO</td>\n",
       "    </tr>\n",
       "    <tr>\n",
       "      <th>4</th>\n",
       "      <td>16680</td>\n",
       "      <td>42519267</td>\n",
       "      <td>Caucasian</td>\n",
       "      <td>Male</td>\n",
       "      <td>[40-50)</td>\n",
       "      <td>?</td>\n",
       "      <td>1</td>\n",
       "      <td>1</td>\n",
       "      <td>7</td>\n",
       "      <td>1</td>\n",
       "      <td>...</td>\n",
       "      <td>No</td>\n",
       "      <td>Steady</td>\n",
       "      <td>No</td>\n",
       "      <td>No</td>\n",
       "      <td>No</td>\n",
       "      <td>No</td>\n",
       "      <td>No</td>\n",
       "      <td>Ch</td>\n",
       "      <td>Yes</td>\n",
       "      <td>NO</td>\n",
       "    </tr>\n",
       "  </tbody>\n",
       "</table>\n",
       "<p>5 rows × 50 columns</p>\n",
       "</div>"
      ],
      "text/plain": [
       "   encounter_id  patient_nbr             race  gender      age weight  \\\n",
       "0       2278392      8222157        Caucasian  Female   [0-10)      ?   \n",
       "1        149190     55629189        Caucasian  Female  [10-20)      ?   \n",
       "2         64410     86047875  AfricanAmerican  Female  [20-30)      ?   \n",
       "3        500364     82442376        Caucasian    Male  [30-40)      ?   \n",
       "4         16680     42519267        Caucasian    Male  [40-50)      ?   \n",
       "\n",
       "   admission_type_id  discharge_disposition_id  admission_source_id  \\\n",
       "0                  6                        25                    1   \n",
       "1                  1                         1                    7   \n",
       "2                  1                         1                    7   \n",
       "3                  1                         1                    7   \n",
       "4                  1                         1                    7   \n",
       "\n",
       "   time_in_hospital  ... citoglipton insulin  glyburide-metformin  \\\n",
       "0                 1  ...          No      No                   No   \n",
       "1                 3  ...          No      Up                   No   \n",
       "2                 2  ...          No      No                   No   \n",
       "3                 2  ...          No      Up                   No   \n",
       "4                 1  ...          No  Steady                   No   \n",
       "\n",
       "   glipizide-metformin  glimepiride-pioglitazone  metformin-rosiglitazone  \\\n",
       "0                   No                        No                       No   \n",
       "1                   No                        No                       No   \n",
       "2                   No                        No                       No   \n",
       "3                   No                        No                       No   \n",
       "4                   No                        No                       No   \n",
       "\n",
       "   metformin-pioglitazone  change diabetesMed readmitted  \n",
       "0                      No      No          No         NO  \n",
       "1                      No      Ch         Yes        >30  \n",
       "2                      No      No         Yes         NO  \n",
       "3                      No      Ch         Yes         NO  \n",
       "4                      No      Ch         Yes         NO  \n",
       "\n",
       "[5 rows x 50 columns]"
      ]
     },
     "execution_count": 4,
     "metadata": {},
     "output_type": "execute_result"
    }
   ],
   "source": [
    "# Let's see how the data looks like,\n",
    "\n",
    "dataoriginal.head()"
   ]
  },
  {
   "cell_type": "markdown",
   "metadata": {},
   "source": [
    "Data Wrangling to make it fit for Analysis"
   ]
  },
  {
   "cell_type": "code",
   "execution_count": 5,
   "metadata": {},
   "outputs": [
    {
     "data": {
      "text/plain": [
       "encounter_id                    0\n",
       "patient_nbr                     0\n",
       "race                         2273\n",
       "gender                          0\n",
       "age                             0\n",
       "weight                      98569\n",
       "admission_type_id               0\n",
       "discharge_disposition_id        0\n",
       "admission_source_id             0\n",
       "time_in_hospital                0\n",
       "payer_code                  40256\n",
       "medical_specialty           49949\n",
       "num_lab_procedures              0\n",
       "num_procedures                  0\n",
       "num_medications                 0\n",
       "number_outpatient               0\n",
       "number_emergency                0\n",
       "number_inpatient                0\n",
       "diag_1                         21\n",
       "diag_2                        358\n",
       "diag_3                       1423\n",
       "number_diagnoses                0\n",
       "max_glu_serum                   0\n",
       "A1Cresult                       0\n",
       "metformin                       0\n",
       "repaglinide                     0\n",
       "nateglinide                     0\n",
       "chlorpropamide                  0\n",
       "glimepiride                     0\n",
       "acetohexamide                   0\n",
       "glipizide                       0\n",
       "glyburide                       0\n",
       "tolbutamide                     0\n",
       "pioglitazone                    0\n",
       "rosiglitazone                   0\n",
       "acarbose                        0\n",
       "miglitol                        0\n",
       "troglitazone                    0\n",
       "tolazamide                      0\n",
       "examide                         0\n",
       "citoglipton                     0\n",
       "insulin                         0\n",
       "glyburide-metformin             0\n",
       "glipizide-metformin             0\n",
       "glimepiride-pioglitazone        0\n",
       "metformin-rosiglitazone         0\n",
       "metformin-pioglitazone          0\n",
       "change                          0\n",
       "diabetesMed                     0\n",
       "readmitted                      0\n",
       "dtype: int64"
      ]
     },
     "execution_count": 5,
     "metadata": {},
     "output_type": "execute_result"
    }
   ],
   "source": [
    "#Dealing with missing values,\n",
    "\n",
    "datacopy = dataoriginal.copy() \n",
    "Rep = datacopy.replace('?', np.NaN) \n",
    "nacheck = Rep.isnull().sum() \n",
    "nacheck"
   ]
  },
  {
   "cell_type": "code",
   "execution_count": 6,
   "metadata": {},
   "outputs": [],
   "source": [
    "#From the above we can see that \"Weight,payer_code and medical_specialty\" have a lot of missing values thus it is\n",
    "#best to remove these values from the dataset.\n",
    "\n",
    "#Dropping these columns,\n",
    "\n",
    "datacopy= datacopy.drop(['weight','payer_code','medical_specialty'],axis=1)"
   ]
  },
  {
   "cell_type": "code",
   "execution_count": 7,
   "metadata": {},
   "outputs": [
    {
     "data": {
      "text/plain": [
       "0          NO\n",
       "1         >30\n",
       "2          NO\n",
       "3          NO\n",
       "4          NO\n",
       "5         >30\n",
       "6          NO\n",
       "7         >30\n",
       "8          NO\n",
       "9          NO\n",
       "10        >30\n",
       "11        <30\n",
       "12        <30\n",
       "13         NO\n",
       "14        >30\n",
       "15         NO\n",
       "16        <30\n",
       "17         NO\n",
       "18        >30\n",
       "19         NO\n",
       "20         NO\n",
       "21         NO\n",
       "22         NO\n",
       "23        >30\n",
       "24         NO\n",
       "25         NO\n",
       "26         NO\n",
       "27        >30\n",
       "28        >30\n",
       "29        >30\n",
       "         ... \n",
       "101736    >30\n",
       "101737     NO\n",
       "101738     NO\n",
       "101739     NO\n",
       "101740     NO\n",
       "101741     NO\n",
       "101742     NO\n",
       "101743     NO\n",
       "101744     NO\n",
       "101745     NO\n",
       "101746    <30\n",
       "101747    >30\n",
       "101748    >30\n",
       "101749     NO\n",
       "101750    <30\n",
       "101751     NO\n",
       "101752     NO\n",
       "101753     NO\n",
       "101754    >30\n",
       "101755    >30\n",
       "101756    >30\n",
       "101757     NO\n",
       "101758     NO\n",
       "101759     NO\n",
       "101760    >30\n",
       "101761    >30\n",
       "101762     NO\n",
       "101763     NO\n",
       "101764     NO\n",
       "101765     NO\n",
       "Name: readmitted, Length: 101766, dtype: object"
      ]
     },
     "execution_count": 7,
     "metadata": {},
     "output_type": "execute_result"
    }
   ],
   "source": [
    "datacopy['readmitted']"
   ]
  },
  {
   "cell_type": "code",
   "execution_count": 8,
   "metadata": {},
   "outputs": [],
   "source": [
    "Encoding the outcome variable\n",
    "# We can see that there are three types of values:- 'NO','<30','>30'. So, to make it a categorical variable so that different  \n",
    "# ML techniques can be applies.\n",
    "The outcome we are looking at is whether the patient gets readmitted to the hospital within 30 days or not. The variable actually  has < 30, > 30 and No Readmission categories. \n",
    "To reduce our problem to a binary classification, we combined the readmission after 30 days and no readmission into a single category:\n",
    "\n",
    "datacopy['30readmit'] = np.where(datacopy['readmitted'] == 'NO', 0, 1)"
   ]
  },
  {
   "cell_type": "code",
   "execution_count": 9,
   "metadata": {},
   "outputs": [
    {
     "data": {
      "text/plain": [
       "30readmit\n",
       "0    54864\n",
       "1    46902\n",
       "dtype: int64"
      ]
     },
     "execution_count": 9,
     "metadata": {},
     "output_type": "execute_result"
    }
   ],
   "source": [
    "datacopy.groupby('30readmit').size()"
   ]
  },
  {
   "cell_type": "code",
   "execution_count": 10,
   "metadata": {},
   "outputs": [],
   "source": [
    "# Removing the pateints from the dataset that are dead.\n",
    "\n",
    "datacopy = datacopy[((datacopy.discharge_disposition_id != 11) & \n",
    "                                          (datacopy.discharge_disposition_id != 13) &\n",
    "                                          (datacopy.discharge_disposition_id != 14) & \n",
    "                                          (datacopy.discharge_disposition_id != 19) & \n",
    "                                          (datacopy.discharge_disposition_id != 20) & \n",
    "                                          (datacopy.discharge_disposition_id != 21))]"
   ]
  },
  {
   "cell_type": "code",
   "execution_count": 11,
   "metadata": {},
   "outputs": [
    {
     "data": {
      "text/html": [
       "<div>\n",
       "<style scoped>\n",
       "    .dataframe tbody tr th:only-of-type {\n",
       "        vertical-align: middle;\n",
       "    }\n",
       "\n",
       "    .dataframe tbody tr th {\n",
       "        vertical-align: top;\n",
       "    }\n",
       "\n",
       "    .dataframe thead th {\n",
       "        text-align: right;\n",
       "    }\n",
       "</style>\n",
       "<table border=\"1\" class=\"dataframe\">\n",
       "  <thead>\n",
       "    <tr style=\"text-align: right;\">\n",
       "      <th></th>\n",
       "      <th>encounter_id</th>\n",
       "      <th>patient_nbr</th>\n",
       "      <th>race</th>\n",
       "      <th>gender</th>\n",
       "      <th>age</th>\n",
       "      <th>admission_type_id</th>\n",
       "      <th>discharge_disposition_id</th>\n",
       "      <th>admission_source_id</th>\n",
       "      <th>time_in_hospital</th>\n",
       "      <th>num_lab_procedures</th>\n",
       "      <th>...</th>\n",
       "      <th>insulin</th>\n",
       "      <th>glyburide-metformin</th>\n",
       "      <th>glipizide-metformin</th>\n",
       "      <th>glimepiride-pioglitazone</th>\n",
       "      <th>metformin-rosiglitazone</th>\n",
       "      <th>metformin-pioglitazone</th>\n",
       "      <th>change</th>\n",
       "      <th>diabetesMed</th>\n",
       "      <th>readmitted</th>\n",
       "      <th>30readmit</th>\n",
       "    </tr>\n",
       "  </thead>\n",
       "  <tbody>\n",
       "    <tr>\n",
       "      <th>0</th>\n",
       "      <td>2278392</td>\n",
       "      <td>8222157</td>\n",
       "      <td>Caucasian</td>\n",
       "      <td>Female</td>\n",
       "      <td>[0-10)</td>\n",
       "      <td>6</td>\n",
       "      <td>25</td>\n",
       "      <td>1</td>\n",
       "      <td>1</td>\n",
       "      <td>41</td>\n",
       "      <td>...</td>\n",
       "      <td>No</td>\n",
       "      <td>No</td>\n",
       "      <td>No</td>\n",
       "      <td>No</td>\n",
       "      <td>No</td>\n",
       "      <td>No</td>\n",
       "      <td>No</td>\n",
       "      <td>No</td>\n",
       "      <td>NO</td>\n",
       "      <td>0</td>\n",
       "    </tr>\n",
       "    <tr>\n",
       "      <th>1</th>\n",
       "      <td>149190</td>\n",
       "      <td>55629189</td>\n",
       "      <td>Caucasian</td>\n",
       "      <td>Female</td>\n",
       "      <td>[10-20)</td>\n",
       "      <td>1</td>\n",
       "      <td>1</td>\n",
       "      <td>7</td>\n",
       "      <td>3</td>\n",
       "      <td>59</td>\n",
       "      <td>...</td>\n",
       "      <td>Up</td>\n",
       "      <td>No</td>\n",
       "      <td>No</td>\n",
       "      <td>No</td>\n",
       "      <td>No</td>\n",
       "      <td>No</td>\n",
       "      <td>Ch</td>\n",
       "      <td>Yes</td>\n",
       "      <td>&gt;30</td>\n",
       "      <td>1</td>\n",
       "    </tr>\n",
       "    <tr>\n",
       "      <th>2</th>\n",
       "      <td>64410</td>\n",
       "      <td>86047875</td>\n",
       "      <td>AfricanAmerican</td>\n",
       "      <td>Female</td>\n",
       "      <td>[20-30)</td>\n",
       "      <td>1</td>\n",
       "      <td>1</td>\n",
       "      <td>7</td>\n",
       "      <td>2</td>\n",
       "      <td>11</td>\n",
       "      <td>...</td>\n",
       "      <td>No</td>\n",
       "      <td>No</td>\n",
       "      <td>No</td>\n",
       "      <td>No</td>\n",
       "      <td>No</td>\n",
       "      <td>No</td>\n",
       "      <td>No</td>\n",
       "      <td>Yes</td>\n",
       "      <td>NO</td>\n",
       "      <td>0</td>\n",
       "    </tr>\n",
       "    <tr>\n",
       "      <th>3</th>\n",
       "      <td>500364</td>\n",
       "      <td>82442376</td>\n",
       "      <td>Caucasian</td>\n",
       "      <td>Male</td>\n",
       "      <td>[30-40)</td>\n",
       "      <td>1</td>\n",
       "      <td>1</td>\n",
       "      <td>7</td>\n",
       "      <td>2</td>\n",
       "      <td>44</td>\n",
       "      <td>...</td>\n",
       "      <td>Up</td>\n",
       "      <td>No</td>\n",
       "      <td>No</td>\n",
       "      <td>No</td>\n",
       "      <td>No</td>\n",
       "      <td>No</td>\n",
       "      <td>Ch</td>\n",
       "      <td>Yes</td>\n",
       "      <td>NO</td>\n",
       "      <td>0</td>\n",
       "    </tr>\n",
       "    <tr>\n",
       "      <th>4</th>\n",
       "      <td>16680</td>\n",
       "      <td>42519267</td>\n",
       "      <td>Caucasian</td>\n",
       "      <td>Male</td>\n",
       "      <td>[40-50)</td>\n",
       "      <td>1</td>\n",
       "      <td>1</td>\n",
       "      <td>7</td>\n",
       "      <td>1</td>\n",
       "      <td>51</td>\n",
       "      <td>...</td>\n",
       "      <td>Steady</td>\n",
       "      <td>No</td>\n",
       "      <td>No</td>\n",
       "      <td>No</td>\n",
       "      <td>No</td>\n",
       "      <td>No</td>\n",
       "      <td>Ch</td>\n",
       "      <td>Yes</td>\n",
       "      <td>NO</td>\n",
       "      <td>0</td>\n",
       "    </tr>\n",
       "  </tbody>\n",
       "</table>\n",
       "<p>5 rows × 48 columns</p>\n",
       "</div>"
      ],
      "text/plain": [
       "   encounter_id  patient_nbr             race  gender      age  \\\n",
       "0       2278392      8222157        Caucasian  Female   [0-10)   \n",
       "1        149190     55629189        Caucasian  Female  [10-20)   \n",
       "2         64410     86047875  AfricanAmerican  Female  [20-30)   \n",
       "3        500364     82442376        Caucasian    Male  [30-40)   \n",
       "4         16680     42519267        Caucasian    Male  [40-50)   \n",
       "\n",
       "   admission_type_id  discharge_disposition_id  admission_source_id  \\\n",
       "0                  6                        25                    1   \n",
       "1                  1                         1                    7   \n",
       "2                  1                         1                    7   \n",
       "3                  1                         1                    7   \n",
       "4                  1                         1                    7   \n",
       "\n",
       "   time_in_hospital  num_lab_procedures  ...  insulin  glyburide-metformin  \\\n",
       "0                 1                  41  ...       No                   No   \n",
       "1                 3                  59  ...       Up                   No   \n",
       "2                 2                  11  ...       No                   No   \n",
       "3                 2                  44  ...       Up                   No   \n",
       "4                 1                  51  ...   Steady                   No   \n",
       "\n",
       "   glipizide-metformin  glimepiride-pioglitazone  metformin-rosiglitazone  \\\n",
       "0                   No                        No                       No   \n",
       "1                   No                        No                       No   \n",
       "2                   No                        No                       No   \n",
       "3                   No                        No                       No   \n",
       "4                   No                        No                       No   \n",
       "\n",
       "  metformin-pioglitazone change diabetesMed  readmitted 30readmit  \n",
       "0                     No     No          No          NO         0  \n",
       "1                     No     Ch         Yes         >30         1  \n",
       "2                     No     No         Yes          NO         0  \n",
       "3                     No     Ch         Yes          NO         0  \n",
       "4                     No     Ch         Yes          NO         0  \n",
       "\n",
       "[5 rows x 48 columns]"
      ]
     },
     "execution_count": 11,
     "metadata": {},
     "output_type": "execute_result"
    }
   ],
   "source": [
    "datacopy.head()"
   ]
  },
  {
   "cell_type": "markdown",
   "metadata": {},
   "source": [
    "# Performing Exploratory Data Analysis (EDA)"
   ]
  },
  {
   "cell_type": "code",
   "execution_count": 21,
   "metadata": {},
   "outputs": [
    {
     "data": {
      "image/png": "[encoded data removed]",
      "text/plain": [
       "<Figure size 576x576 with 9 Axes>"
      ]
     },
     "metadata": {
      "needs_background": "light"
     },
     "output_type": "display_data"
    }
   ],
   "source": [
    "# Let's see the relationship between different variables to understand the data and if there is a strong correlation between \n",
    "#two variables then we can consider one of them.\n",
    "sm = pd.plotting.scatter_matrix(datacopy[['num_procedures', 'num_medications', 'number_emergency']], figsize = (8, 8))\n",
    "sns.despine()"
   ]
  },
  {
   "cell_type": "markdown",
   "metadata": {},
   "source": [
    "From the above, we can see that there is no problem of multi-collinearity. We can also see that as the number_emergency increases the num_medication decreases."
   ]
  },
  {
   "cell_type": "code",
   "execution_count": 22,
   "metadata": {},
   "outputs": [
    {
     "data": {
      "image/png": "[encoded data removed]",
      "text/plain": [
       "<Figure size 720x432 with 1 Axes>"
      ]
     },
     "metadata": {
      "needs_background": "light"
     },
     "output_type": "display_data"
    }
   ],
   "source": [
    "#Let's try to see how the age and number of medicines vary,\n",
    "sortage = datacopy.sort_values(by = 'age')\n",
    "x = sns.stripplot(x = \"age\", y = \"num_medications\", data = sortage, color = 'red')\n",
    "sns.despine() #remove top and right axes\n",
    "x.figure.set_size_inches(10, 6)\n",
    "x.set_xlabel('Age')\n",
    "x.set_ylabel('Number of Medications')\n",
    "x.axes.set_title('Number of Medications vs. Age')\n",
    "plt.show()"
   ]
  },
  {
   "cell_type": "code",
   "execution_count": 23,
   "metadata": {},
   "outputs": [
    {
     "ename": "AttributeError",
     "evalue": "module 'matplotlib.pyplot' has no attribute 'sho'",
     "output_type": "error",
     "traceback": [
      "\u001b[1;31m---------------------------------------------------------------------------\u001b[0m",
      "\u001b[1;31mAttributeError\u001b[0m                            Traceback (most recent call last)",
      "\u001b[1;32m<ipython-input-23-e8539427b821>\u001b[0m in \u001b[0;36m<module>\u001b[1;34m\u001b[0m\n\u001b[0;32m      6\u001b[0m \u001b[0mplot1\u001b[0m\u001b[1;33m.\u001b[0m\u001b[0mlegend\u001b[0m\u001b[1;33m(\u001b[0m\u001b[0mtitle\u001b[0m \u001b[1;33m=\u001b[0m \u001b[1;34m'Readmitted patients'\u001b[0m\u001b[1;33m,\u001b[0m \u001b[0mlabels\u001b[0m \u001b[1;33m=\u001b[0m \u001b[1;33m(\u001b[0m\u001b[1;34m'No'\u001b[0m\u001b[1;33m,\u001b[0m \u001b[1;34m'Yes'\u001b[0m\u001b[1;33m)\u001b[0m\u001b[1;33m)\u001b[0m\u001b[1;33m\u001b[0m\u001b[1;33m\u001b[0m\u001b[0m\n\u001b[0;32m      7\u001b[0m \u001b[0mplot1\u001b[0m\u001b[1;33m.\u001b[0m\u001b[0maxes\u001b[0m\u001b[1;33m.\u001b[0m\u001b[0mset_title\u001b[0m\u001b[1;33m(\u001b[0m\u001b[1;34m'Readmissions Balance by Gender'\u001b[0m\u001b[1;33m)\u001b[0m\u001b[1;33m\u001b[0m\u001b[1;33m\u001b[0m\u001b[0m\n\u001b[1;32m----> 8\u001b[1;33m \u001b[0mplt\u001b[0m\u001b[1;33m.\u001b[0m\u001b[0msho\u001b[0m\u001b[1;33m\u001b[0m\u001b[1;33m\u001b[0m\u001b[0m\n\u001b[0m",
      "\u001b[1;31mAttributeError\u001b[0m: module 'matplotlib.pyplot' has no attribute 'sho'"
     ]
    },
    {
     "data": {
      "image/png": "[encoded data removed]",
      "text/plain": [
       "<Figure size 504x468 with 1 Axes>"
      ]
     },
     "metadata": {
      "needs_background": "light"
     },
     "output_type": "display_data"
    }
   ],
   "source": [
    "#Gender and Readmissions,\n",
    "plot1 = sns.countplot(x = 'gender', hue = '30readmit', data = datacopy) \n",
    "\n",
    "sns.despine()\n",
    "plot1.figure.set_size_inches(7, 6.5)\n",
    "plot1.legend(title = 'Readmitted patients', labels = ('No', 'Yes'))\n",
    "plot1.axes.set_title('Readmissions Balance by Gender')\n",
    "plt.sho"
   ]
  },
  {
   "cell_type": "code",
   "execution_count": 24,
   "metadata": {},
   "outputs": [
    {
     "data": {
      "image/png": "[encoded data removed]",
      "text/plain": [
       "<Figure size 504x468 with 1 Axes>"
      ]
     },
     "metadata": {
      "needs_background": "light"
     },
     "output_type": "display_data"
    }
   ],
   "source": [
    "#Relation between age and readmission,\n",
    "\n",
    "b = datacopy.age.unique()\n",
    "b.sort()\n",
    "b_sort = np.array(b).tolist()\n",
    "\n",
    "\n",
    "ageplt = sns.countplot(x = 'age', hue = '30readmit', data = datacopy, order = b_sort) \n",
    "\n",
    "sns.despine()\n",
    "ageplt.figure.set_size_inches(7, 6.5)\n",
    "ageplt.legend(title = 'Readmitted within 30 days', labels = ('No', 'Yes'))\n",
    "ageplt.axes.set_title('Readmissions Balance by Age')\n",
    "plt.show()"
   ]
  },
  {
   "cell_type": "code",
   "execution_count": 27,
   "metadata": {},
   "outputs": [
    {
     "data": {
      "image/png": "[encoded data removed]",
      "text/plain": [
       "<Figure size 1440x1080 with 16 Axes>"
      ]
     },
     "metadata": {
      "needs_background": "light"
     },
     "output_type": "display_data"
    }
   ],
   "source": [
    "#Plotting the numerical variables in our dataset,\n",
    "\n",
    "%matplotlib inline\n",
    "import matplotlib.pyplot as plt\n",
    "datacopy.hist(bins=50, figsize=(20,15))\n",
    "plt.show()"
   ]
  },
  {
   "cell_type": "code",
   "execution_count": 28,
   "metadata": {},
   "outputs": [
    {
     "data": {
      "text/plain": [
       "<matplotlib.axes._subplots.AxesSubplot at 0x2567a37ce10>"
      ]
     },
     "execution_count": 28,
     "metadata": {},
     "output_type": "execute_result"
    },
    {
     "data": {
      "image/png": "[encoded data removed]",
      "text/plain": [
       "<Figure size 1080x720 with 4 Axes>"
      ]
     },
     "metadata": {
      "needs_background": "light"
     },
     "output_type": "display_data"
    }
   ],
   "source": [
    "#Exploring the categorical variables,\n",
    "\n",
    "import seaborn as sns\n",
    "\n",
    "fig, ax = plt.subplots(figsize=(15,10), ncols=2, nrows=2)\n",
    "\n",
    "sns.countplot(x=\"readmitted\", data=datacopy, ax=ax[0][0])\n",
    "sns.countplot(x=\"race\", data=datacopy, ax=ax[0][1])\n",
    "sns.countplot(x=\"gender\", data=datacopy, ax=ax[1][0])\n",
    "sns.countplot(x=\"age\", data=datacopy, ax=ax[1][1])"
   ]
  },
  {
   "cell_type": "markdown",
   "metadata": {},
   "source": [
    "# Prediction using ML Models\n",
    "\n",
    "Before applying logistic regression, we will have to make the data fit for performing logistic regression."
   ]
  },
  {
   "cell_type": "code",
   "execution_count": 29,
   "metadata": {},
   "outputs": [],
   "source": [
    "# Cleaning the data, replacing the null values in numeric data by 0 and object data by unknown,\n",
    "\n",
    "numcolumn = datacopy.select_dtypes(include = [np.number]).columns\n",
    "objcolumn = datacopy.select_dtypes(include = ['object']).columns"
   ]
  },
  {
   "cell_type": "code",
   "execution_count": 30,
   "metadata": {},
   "outputs": [],
   "source": [
    "# Substituting 0 and unknown,\n",
    "\n",
    "datacopy[numcolumn] = datacopy[numcolumn].fillna(0)\n",
    "datacopy[objcolumn] = datacopy[objcolumn].fillna(\"unknown\")"
   ]
  },
  {
   "cell_type": "code",
   "execution_count": 31,
   "metadata": {},
   "outputs": [
    {
     "data": {
      "text/html": [
       "<div>\n",
       "<style scoped>\n",
       "    .dataframe tbody tr th:only-of-type {\n",
       "        vertical-align: middle;\n",
       "    }\n",
       "\n",
       "    .dataframe tbody tr th {\n",
       "        vertical-align: top;\n",
       "    }\n",
       "\n",
       "    .dataframe thead th {\n",
       "        text-align: right;\n",
       "    }\n",
       "</style>\n",
       "<table border=\"1\" class=\"dataframe\">\n",
       "  <thead>\n",
       "    <tr style=\"text-align: right;\">\n",
       "      <th></th>\n",
       "      <th>encounter_id</th>\n",
       "      <th>patient_nbr</th>\n",
       "      <th>race</th>\n",
       "      <th>gender</th>\n",
       "      <th>age</th>\n",
       "      <th>admission_type_id</th>\n",
       "      <th>discharge_disposition_id</th>\n",
       "      <th>admission_source_id</th>\n",
       "      <th>time_in_hospital</th>\n",
       "      <th>num_lab_procedures</th>\n",
       "      <th>...</th>\n",
       "      <th>insulin</th>\n",
       "      <th>glyburide-metformin</th>\n",
       "      <th>glipizide-metformin</th>\n",
       "      <th>glimepiride-pioglitazone</th>\n",
       "      <th>metformin-rosiglitazone</th>\n",
       "      <th>metformin-pioglitazone</th>\n",
       "      <th>change</th>\n",
       "      <th>diabetesMed</th>\n",
       "      <th>readmitted</th>\n",
       "      <th>30readmit</th>\n",
       "    </tr>\n",
       "  </thead>\n",
       "  <tbody>\n",
       "    <tr>\n",
       "      <th>0</th>\n",
       "      <td>2278392</td>\n",
       "      <td>8222157</td>\n",
       "      <td>Caucasian</td>\n",
       "      <td>Female</td>\n",
       "      <td>[0-10)</td>\n",
       "      <td>6</td>\n",
       "      <td>25</td>\n",
       "      <td>1</td>\n",
       "      <td>1</td>\n",
       "      <td>41</td>\n",
       "      <td>...</td>\n",
       "      <td>No</td>\n",
       "      <td>No</td>\n",
       "      <td>No</td>\n",
       "      <td>No</td>\n",
       "      <td>No</td>\n",
       "      <td>No</td>\n",
       "      <td>No</td>\n",
       "      <td>No</td>\n",
       "      <td>NO</td>\n",
       "      <td>0</td>\n",
       "    </tr>\n",
       "    <tr>\n",
       "      <th>1</th>\n",
       "      <td>149190</td>\n",
       "      <td>55629189</td>\n",
       "      <td>Caucasian</td>\n",
       "      <td>Female</td>\n",
       "      <td>[10-20)</td>\n",
       "      <td>1</td>\n",
       "      <td>1</td>\n",
       "      <td>7</td>\n",
       "      <td>3</td>\n",
       "      <td>59</td>\n",
       "      <td>...</td>\n",
       "      <td>Up</td>\n",
       "      <td>No</td>\n",
       "      <td>No</td>\n",
       "      <td>No</td>\n",
       "      <td>No</td>\n",
       "      <td>No</td>\n",
       "      <td>Ch</td>\n",
       "      <td>Yes</td>\n",
       "      <td>&gt;30</td>\n",
       "      <td>1</td>\n",
       "    </tr>\n",
       "  </tbody>\n",
       "</table>\n",
       "<p>2 rows × 48 columns</p>\n",
       "</div>"
      ],
      "text/plain": [
       "   encounter_id  patient_nbr       race  gender      age  admission_type_id  \\\n",
       "0       2278392      8222157  Caucasian  Female   [0-10)                  6   \n",
       "1        149190     55629189  Caucasian  Female  [10-20)                  1   \n",
       "\n",
       "   discharge_disposition_id  admission_source_id  time_in_hospital  \\\n",
       "0                        25                    1                 1   \n",
       "1                         1                    7                 3   \n",
       "\n",
       "   num_lab_procedures  ...  insulin  glyburide-metformin  glipizide-metformin  \\\n",
       "0                  41  ...       No                   No                   No   \n",
       "1                  59  ...       Up                   No                   No   \n",
       "\n",
       "   glimepiride-pioglitazone  metformin-rosiglitazone metformin-pioglitazone  \\\n",
       "0                        No                       No                     No   \n",
       "1                        No                       No                     No   \n",
       "\n",
       "  change diabetesMed  readmitted 30readmit  \n",
       "0     No          No          NO         0  \n",
       "1     Ch         Yes         >30         1  \n",
       "\n",
       "[2 rows x 48 columns]"
      ]
     },
     "execution_count": 31,
     "metadata": {},
     "output_type": "execute_result"
    }
   ],
   "source": [
    "datacopy.head(2)"
   ]
  },
  {
   "cell_type": "code",
   "execution_count": 32,
   "metadata": {},
   "outputs": [
    {
     "name": "stderr",
     "output_type": "stream",
     "text": [
      "C:\\Users\\Pooja Panthare\\Anaconda3\\lib\\site-packages\\pandas\\core\\indexing.py:635: SettingWithCopyWarning: \n",
      "A value is trying to be set on a copy of a slice from a DataFrame.\n",
      "Try using .loc[row_indexer,col_indexer] = value instead\n",
      "\n",
      "See the caveats in the documentation: http://pandas.pydata.org/pandas-docs/stable/indexing.html#indexing-view-versus-copy\n",
      "  self.obj[item_labels[indexer[info_axis]]] = value\n"
     ]
    }
   ],
   "source": [
    "#Encoding the data,\n",
    "\n",
    "def map_now():\n",
    "    listname = [('infections', 139),\n",
    "                ('neoplasms', (239 - 139)),\n",
    "                ('endocrine', (279 - 239)),\n",
    "                ('blood', (289 - 279)),\n",
    "                ('mental', (319 - 289)),\n",
    "                ('nervous', (359 - 319)),\n",
    "                ('sense', (389 - 359)),\n",
    "                ('circulatory', (459-389)),\n",
    "                ('respiratory', (519-459)),\n",
    "                ('digestive', (579 - 519)),\n",
    "                ('genitourinary', (629 - 579)),\n",
    "                ('pregnancy', (679 - 629)),\n",
    "                ('skin', (709 - 679)),\n",
    "                ('musculoskeletal', (739 - 709)),\n",
    "                ('congenital', (759 - 739)),\n",
    "                ('perinatal', (779 - 759)),\n",
    "                ('ill-defined', (799 - 779)),\n",
    "                ('injury', (999 - 799))]\n",
    "    \n",
    "    \n",
    "    dictcout = {}\n",
    "    count = 1\n",
    "    for name, num in listname:\n",
    "        for i in range(num):\n",
    "            dictcout.update({str(count): name})  \n",
    "            count += 1\n",
    "    return dictcout\n",
    "  \n",
    "\n",
    "def codemap(df, codes):\n",
    "    import pandas as pd\n",
    "    namecol = df.columns.tolist()\n",
    "    for col in namecol:\n",
    "        temp = [] \n",
    "        for num in df[col]:           \n",
    "            if ((num is None) | (num in ['unknown', '?']) | (pd.isnull(num))): temp.append('unknown')\n",
    "            elif(num.upper()[0] == 'V'): temp.append('supplemental')\n",
    "            elif(num.upper()[0] == 'E'): temp.append('injury')\n",
    "            else: \n",
    "                lkup = num.split('.')[0]\n",
    "                temp.append(codes[lkup])           \n",
    "        df.loc[:, col] = temp               \n",
    "    return df \n",
    "\n",
    "\n",
    "listcol = ['diag_1', 'diag_2', 'diag_3']\n",
    "codes = map_now()\n",
    "datacopy[listcol] = codemap(datacopy[listcol], codes)"
   ]
  },
  {
   "cell_type": "code",
   "execution_count": 33,
   "metadata": {},
   "outputs": [
    {
     "data": {
      "text/plain": [
       "<bound method NDFrame.describe of         encounter_id  patient_nbr             race  gender       age  \\\n",
       "0            2278392      8222157        Caucasian  Female    [0-10)   \n",
       "1             149190     55629189        Caucasian  Female   [10-20)   \n",
       "2              64410     86047875  AfricanAmerican  Female   [20-30)   \n",
       "3             500364     82442376        Caucasian    Male   [30-40)   \n",
       "4              16680     42519267        Caucasian    Male   [40-50)   \n",
       "5              35754     82637451        Caucasian    Male   [50-60)   \n",
       "6              55842     84259809        Caucasian    Male   [60-70)   \n",
       "7              63768    114882984        Caucasian    Male   [70-80)   \n",
       "8              12522     48330783        Caucasian  Female   [80-90)   \n",
       "9              15738     63555939        Caucasian  Female  [90-100)   \n",
       "10             28236     89869032  AfricanAmerican  Female   [40-50)   \n",
       "11             36900     77391171  AfricanAmerican    Male   [60-70)   \n",
       "12             40926     85504905        Caucasian  Female   [40-50)   \n",
       "13             42570     77586282        Caucasian    Male   [80-90)   \n",
       "14             62256     49726791  AfricanAmerican  Female   [60-70)   \n",
       "15             73578     86328819  AfricanAmerican    Male   [60-70)   \n",
       "16             77076     92519352  AfricanAmerican    Male   [50-60)   \n",
       "17             84222    108662661        Caucasian  Female   [50-60)   \n",
       "18             89682    107389323  AfricanAmerican    Male   [70-80)   \n",
       "19            148530     69422211                ?    Male   [70-80)   \n",
       "20            150006     22864131                ?  Female   [50-60)   \n",
       "21            150048     21239181                ?    Male   [60-70)   \n",
       "22            182796     63000108  AfricanAmerican  Female   [70-80)   \n",
       "23            183930    107400762        Caucasian  Female   [80-90)   \n",
       "24            216156     62718876  AfricanAmerican  Female   [70-80)   \n",
       "25            221634     21861756            Other  Female   [50-60)   \n",
       "26            236316     40523301        Caucasian    Male   [80-90)   \n",
       "27            248916    115196778        Caucasian  Female   [50-60)   \n",
       "28            250872     41606064        Caucasian    Male   [20-30)   \n",
       "29            252822     18196434        Caucasian  Female   [80-90)   \n",
       "...              ...          ...              ...     ...       ...   \n",
       "101735     443739044    106595208        Caucasian    Male   [70-80)   \n",
       "101736     443739152     90751788        Caucasian  Female   [60-70)   \n",
       "101737     443775086    125764160        Caucasian  Female   [40-50)   \n",
       "101738     443775482     95780439        Caucasian    Male   [70-80)   \n",
       "101739     443775740     30656952  AfricanAmerican    Male   [70-80)   \n",
       "101740     443778398    134647673        Caucasian    Male   [40-50)   \n",
       "101741     443787128     58160520  AfricanAmerican    Male  [90-100)   \n",
       "101742     443787512     52419276        Caucasian    Male   [70-80)   \n",
       "101744     443793992     43686936        Caucasian  Female   [80-90)   \n",
       "101745     443797076    183766055        Caucasian    Male   [50-60)   \n",
       "101746     443797298     89955270        Caucasian    Male   [70-80)   \n",
       "101747     443804570     33230016        Caucasian  Female   [70-80)   \n",
       "101748     443811536    189481478        Caucasian  Female   [40-50)   \n",
       "101749     443816024    106392411        Caucasian  Female   [70-80)   \n",
       "101750     443824292    138784172        Caucasian  Female   [80-90)   \n",
       "101751     443835140    175326800        Caucasian    Male   [70-80)   \n",
       "101752     443835512    139605341            Other  Female   [40-50)   \n",
       "101753     443841992    184875899            Other    Male   [40-50)   \n",
       "101754     443842016    183087545        Caucasian  Female   [70-80)   \n",
       "101755     443842022    188574944            Other  Female   [40-50)   \n",
       "101756     443842070    140199494            Other  Female   [60-70)   \n",
       "101757     443842136    181593374        Caucasian  Female   [70-80)   \n",
       "101758     443842340    120975314        Caucasian  Female   [80-90)   \n",
       "101759     443842778     86472243        Caucasian    Male   [80-90)   \n",
       "101760     443847176     50375628  AfricanAmerican  Female   [60-70)   \n",
       "101761     443847548    100162476  AfricanAmerican    Male   [70-80)   \n",
       "101762     443847782     74694222  AfricanAmerican  Female   [80-90)   \n",
       "101763     443854148     41088789        Caucasian    Male   [70-80)   \n",
       "101764     443857166     31693671        Caucasian  Female   [80-90)   \n",
       "101765     443867222    175429310        Caucasian    Male   [70-80)   \n",
       "\n",
       "        admission_type_id  discharge_disposition_id  admission_source_id  \\\n",
       "0                       6                        25                    1   \n",
       "1                       1                         1                    7   \n",
       "2                       1                         1                    7   \n",
       "3                       1                         1                    7   \n",
       "4                       1                         1                    7   \n",
       "5                       2                         1                    2   \n",
       "6                       3                         1                    2   \n",
       "7                       1                         1                    7   \n",
       "8                       2                         1                    4   \n",
       "9                       3                         3                    4   \n",
       "10                      1                         1                    7   \n",
       "11                      2                         1                    4   \n",
       "12                      1                         3                    7   \n",
       "13                      1                         6                    7   \n",
       "14                      3                         1                    2   \n",
       "15                      1                         3                    7   \n",
       "16                      1                         1                    7   \n",
       "17                      1                         1                    7   \n",
       "18                      1                         1                    7   \n",
       "19                      3                         6                    2   \n",
       "20                      2                         1                    4   \n",
       "21                      2                         1                    4   \n",
       "22                      2                         1                    4   \n",
       "23                      2                         6                    1   \n",
       "24                      3                         1                    2   \n",
       "25                      1                         1                    7   \n",
       "26                      1                         3                    7   \n",
       "27                      1                         1                    1   \n",
       "28                      2                         1                    2   \n",
       "29                      1                         2                    7   \n",
       "...                   ...                       ...                  ...   \n",
       "101735                  2                         6                    7   \n",
       "101736                  1                         3                    7   \n",
       "101737                  3                         1                    1   \n",
       "101738                  1                         1                    7   \n",
       "101739                  1                         1                    7   \n",
       "101740                  3                         1                    1   \n",
       "101741                  1                         3                    7   \n",
       "101742                  2                         6                    2   \n",
       "101744                  1                         1                    7   \n",
       "101745                  2                         1                    1   \n",
       "101746                  1                         1                    7   \n",
       "101747                  1                        22                    7   \n",
       "101748                  1                         4                    7   \n",
       "101749                  3                         6                    1   \n",
       "101750                  3                         1                    1   \n",
       "101751                  3                         6                    1   \n",
       "101752                  3                         1                    1   \n",
       "101753                  1                         1                    7   \n",
       "101754                  1                         1                    7   \n",
       "101755                  1                         1                    7   \n",
       "101756                  1                         1                    7   \n",
       "101757                  1                         1                    7   \n",
       "101758                  1                         1                    7   \n",
       "101759                  1                         1                    7   \n",
       "101760                  1                         1                    7   \n",
       "101761                  1                         3                    7   \n",
       "101762                  1                         4                    5   \n",
       "101763                  1                         1                    7   \n",
       "101764                  2                         3                    7   \n",
       "101765                  1                         1                    7   \n",
       "\n",
       "        time_in_hospital  num_lab_procedures  ...  insulin  \\\n",
       "0                      1                  41  ...       No   \n",
       "1                      3                  59  ...       Up   \n",
       "2                      2                  11  ...       No   \n",
       "3                      2                  44  ...       Up   \n",
       "4                      1                  51  ...   Steady   \n",
       "5                      3                  31  ...   Steady   \n",
       "6                      4                  70  ...   Steady   \n",
       "7                      5                  73  ...       No   \n",
       "8                     13                  68  ...   Steady   \n",
       "9                     12                  33  ...   Steady   \n",
       "10                     9                  47  ...   Steady   \n",
       "11                     7                  62  ...   Steady   \n",
       "12                     7                  60  ...     Down   \n",
       "13                    10                  55  ...   Steady   \n",
       "14                     1                  49  ...   Steady   \n",
       "15                    12                  75  ...       Up   \n",
       "16                     4                  45  ...   Steady   \n",
       "17                     3                  29  ...       No   \n",
       "18                     5                  35  ...   Steady   \n",
       "19                     6                  42  ...   Steady   \n",
       "20                     2                  66  ...     Down   \n",
       "21                     2                  36  ...   Steady   \n",
       "22                     2                  47  ...       No   \n",
       "23                    11                  42  ...       No   \n",
       "24                     3                  19  ...   Steady   \n",
       "25                     1                  33  ...       No   \n",
       "26                     6                  64  ...       No   \n",
       "27                     2                  25  ...   Steady   \n",
       "28                    10                  53  ...     Down   \n",
       "29                     5                  52  ...       No   \n",
       "...                  ...                 ...  ...      ...   \n",
       "101735                 6                  46  ...       Up   \n",
       "101736                 8                  54  ...   Steady   \n",
       "101737                 4                  50  ...   Steady   \n",
       "101738                 1                  37  ...       No   \n",
       "101739                 1                  32  ...   Steady   \n",
       "101740                 1                   1  ...   Steady   \n",
       "101741                 4                  21  ...       No   \n",
       "101742                 4                  43  ...   Steady   \n",
       "101744                 1                  49  ...       No   \n",
       "101745                 3                  57  ...       No   \n",
       "101746                 4                   2  ...       No   \n",
       "101747                 8                  51  ...   Steady   \n",
       "101748                14                  69  ...     Down   \n",
       "101749                 3                  27  ...   Steady   \n",
       "101750                 3                  31  ...     Down   \n",
       "101751                13                  77  ...       Up   \n",
       "101752                 3                  13  ...   Steady   \n",
       "101753                13                  51  ...     Down   \n",
       "101754                 9                  50  ...   Steady   \n",
       "101755                14                  73  ...       Up   \n",
       "101756                 2                  46  ...   Steady   \n",
       "101757                 5                  21  ...   Steady   \n",
       "101758                 5                  76  ...       Up   \n",
       "101759                 1                   1  ...       Up   \n",
       "101760                 6                  45  ...     Down   \n",
       "101761                 3                  51  ...     Down   \n",
       "101762                 5                  33  ...   Steady   \n",
       "101763                 1                  53  ...     Down   \n",
       "101764                10                  45  ...       Up   \n",
       "101765                 6                  13  ...       No   \n",
       "\n",
       "        glyburide-metformin  glipizide-metformin  glimepiride-pioglitazone  \\\n",
       "0                        No                   No                        No   \n",
       "1                        No                   No                        No   \n",
       "2                        No                   No                        No   \n",
       "3                        No                   No                        No   \n",
       "4                        No                   No                        No   \n",
       "5                        No                   No                        No   \n",
       "6                        No                   No                        No   \n",
       "7                        No                   No                        No   \n",
       "8                        No                   No                        No   \n",
       "9                        No                   No                        No   \n",
       "10                       No                   No                        No   \n",
       "11                       No                   No                        No   \n",
       "12                       No                   No                        No   \n",
       "13                       No                   No                        No   \n",
       "14                       No                   No                        No   \n",
       "15                       No                   No                        No   \n",
       "16                       No                   No                        No   \n",
       "17                       No                   No                        No   \n",
       "18                       No                   No                        No   \n",
       "19                       No                   No                        No   \n",
       "20                       No                   No                        No   \n",
       "21                       No                   No                        No   \n",
       "22                       No                   No                        No   \n",
       "23                       No                   No                        No   \n",
       "24                       No                   No                        No   \n",
       "25                       No                   No                        No   \n",
       "26                       No                   No                        No   \n",
       "27                       No                   No                        No   \n",
       "28                       No                   No                        No   \n",
       "29                       No                   No                        No   \n",
       "...                     ...                  ...                       ...   \n",
       "101735                   No                   No                        No   \n",
       "101736                   No                   No                        No   \n",
       "101737                   No                   No                        No   \n",
       "101738                   No                   No                        No   \n",
       "101739                   No                   No                        No   \n",
       "101740                   No                   No                        No   \n",
       "101741                   No                   No                        No   \n",
       "101742                   No                   No                        No   \n",
       "101744                   No                   No                        No   \n",
       "101745                   No                   No                        No   \n",
       "101746                   No                   No                        No   \n",
       "101747                   No                   No                        No   \n",
       "101748                   No                   No                        No   \n",
       "101749                   No                   No                        No   \n",
       "101750                   No                   No                        No   \n",
       "101751                   No                   No                        No   \n",
       "101752                   No                   No                        No   \n",
       "101753                   No                   No                        No   \n",
       "101754                   No                   No                        No   \n",
       "101755                   No                   No                        No   \n",
       "101756                   No                   No                        No   \n",
       "101757                   No                   No                        No   \n",
       "101758                   No                   No                        No   \n",
       "101759                   No                   No                        No   \n",
       "101760                   No                   No                        No   \n",
       "101761                   No                   No                        No   \n",
       "101762                   No                   No                        No   \n",
       "101763                   No                   No                        No   \n",
       "101764                   No                   No                        No   \n",
       "101765                   No                   No                        No   \n",
       "\n",
       "        metformin-rosiglitazone metformin-pioglitazone change diabetesMed  \\\n",
       "0                            No                     No     No          No   \n",
       "1                            No                     No     Ch         Yes   \n",
       "2                            No                     No     No         Yes   \n",
       "3                            No                     No     Ch         Yes   \n",
       "4                            No                     No     Ch         Yes   \n",
       "5                            No                     No     No         Yes   \n",
       "6                            No                     No     Ch         Yes   \n",
       "7                            No                     No     No         Yes   \n",
       "8                            No                     No     Ch         Yes   \n",
       "9                            No                     No     Ch         Yes   \n",
       "10                           No                     No     No         Yes   \n",
       "11                           No                     No     Ch         Yes   \n",
       "12                           No                     No     Ch         Yes   \n",
       "13                           No                     No     No         Yes   \n",
       "14                           No                     No     No         Yes   \n",
       "15                           No                     No     Ch         Yes   \n",
       "16                           No                     No     Ch         Yes   \n",
       "17                           No                     No     No         Yes   \n",
       "18                           No                     No     No         Yes   \n",
       "19                           No                     No     Ch         Yes   \n",
       "20                           No                     No     Ch         Yes   \n",
       "21                           No                     No     Ch         Yes   \n",
       "22                           No                     No     No          No   \n",
       "23                           No                     No     No          No   \n",
       "24                           No                     No     Ch         Yes   \n",
       "25                           No                     No     No         Yes   \n",
       "26                           No                     No     Ch         Yes   \n",
       "27                           No                     No     No         Yes   \n",
       "28                           No                     No     Ch         Yes   \n",
       "29                           No                     No     Ch         Yes   \n",
       "...                         ...                    ...    ...         ...   \n",
       "101735                       No                     No     Ch         Yes   \n",
       "101736                       No                     No     No         Yes   \n",
       "101737                       No                     No     Ch         Yes   \n",
       "101738                       No                     No     No         Yes   \n",
       "101739                       No                     No     No         Yes   \n",
       "101740                       No                     No     Ch         Yes   \n",
       "101741                       No                     No     No          No   \n",
       "101742                       No                     No     Ch         Yes   \n",
       "101744                       No                     No     No          No   \n",
       "101745                       No                     No     Ch         Yes   \n",
       "101746                       No                     No     No         Yes   \n",
       "101747                       No                     No     No         Yes   \n",
       "101748                       No                     No     Ch         Yes   \n",
       "101749                       No                     No     Ch         Yes   \n",
       "101750                       No                     No     Ch         Yes   \n",
       "101751                       No                     No     Ch         Yes   \n",
       "101752                       No                     No     Ch         Yes   \n",
       "101753                       No                     No     Ch         Yes   \n",
       "101754                       No                     No     Ch         Yes   \n",
       "101755                       No                     No     Ch         Yes   \n",
       "101756                       No                     No     No         Yes   \n",
       "101757                       No                     No     No         Yes   \n",
       "101758                       No                     No     Ch         Yes   \n",
       "101759                       No                     No     Ch         Yes   \n",
       "101760                       No                     No     Ch         Yes   \n",
       "101761                       No                     No     Ch         Yes   \n",
       "101762                       No                     No     No         Yes   \n",
       "101763                       No                     No     Ch         Yes   \n",
       "101764                       No                     No     Ch         Yes   \n",
       "101765                       No                     No     No          No   \n",
       "\n",
       "        readmitted 30readmit  \n",
       "0               NO         0  \n",
       "1              >30         1  \n",
       "2               NO         0  \n",
       "3               NO         0  \n",
       "4               NO         0  \n",
       "5              >30         1  \n",
       "6               NO         0  \n",
       "7              >30         1  \n",
       "8               NO         0  \n",
       "9               NO         0  \n",
       "10             >30         1  \n",
       "11             <30         1  \n",
       "12             <30         1  \n",
       "13              NO         0  \n",
       "14             >30         1  \n",
       "15              NO         0  \n",
       "16             <30         1  \n",
       "17              NO         0  \n",
       "18             >30         1  \n",
       "19              NO         0  \n",
       "20              NO         0  \n",
       "21              NO         0  \n",
       "22              NO         0  \n",
       "23             >30         1  \n",
       "24              NO         0  \n",
       "25              NO         0  \n",
       "26              NO         0  \n",
       "27             >30         1  \n",
       "28             >30         1  \n",
       "29             >30         1  \n",
       "...            ...       ...  \n",
       "101735          NO         0  \n",
       "101736         >30         1  \n",
       "101737          NO         0  \n",
       "101738          NO         0  \n",
       "101739          NO         0  \n",
       "101740          NO         0  \n",
       "101741          NO         0  \n",
       "101742          NO         0  \n",
       "101744          NO         0  \n",
       "101745          NO         0  \n",
       "101746         <30         1  \n",
       "101747         >30         1  \n",
       "101748         >30         1  \n",
       "101749          NO         0  \n",
       "101750         <30         1  \n",
       "101751          NO         0  \n",
       "101752          NO         0  \n",
       "101753          NO         0  \n",
       "101754         >30         1  \n",
       "101755         >30         1  \n",
       "101756         >30         1  \n",
       "101757          NO         0  \n",
       "101758          NO         0  \n",
       "101759          NO         0  \n",
       "101760         >30         1  \n",
       "101761         >30         1  \n",
       "101762          NO         0  \n",
       "101763          NO         0  \n",
       "101764          NO         0  \n",
       "101765          NO         0  \n",
       "\n",
       "[99343 rows x 48 columns]>"
      ]
     },
     "execution_count": 33,
     "metadata": {},
     "output_type": "execute_result"
    }
   ],
   "source": [
    "#Now let's look at the dataset again and drop the irrelevant columns,\n",
    "\n",
    "datacopy.describe"
   ]
  },
  {
   "cell_type": "code",
   "execution_count": 34,
   "metadata": {},
   "outputs": [],
   "source": [
    "data1 = datacopy.drop(['encounter_id', \"patient_nbr\", 'admission_type_id','readmitted'], axis =1) "
   ]
  },
  {
   "cell_type": "code",
   "execution_count": 35,
   "metadata": {},
   "outputs": [
    {
     "data": {
      "text/html": [
       "<div>\n",
       "<style scoped>\n",
       "    .dataframe tbody tr th:only-of-type {\n",
       "        vertical-align: middle;\n",
       "    }\n",
       "\n",
       "    .dataframe tbody tr th {\n",
       "        vertical-align: top;\n",
       "    }\n",
       "\n",
       "    .dataframe thead th {\n",
       "        text-align: right;\n",
       "    }\n",
       "</style>\n",
       "<table border=\"1\" class=\"dataframe\">\n",
       "  <thead>\n",
       "    <tr style=\"text-align: right;\">\n",
       "      <th></th>\n",
       "      <th>race</th>\n",
       "      <th>gender</th>\n",
       "      <th>age</th>\n",
       "      <th>discharge_disposition_id</th>\n",
       "      <th>admission_source_id</th>\n",
       "      <th>time_in_hospital</th>\n",
       "      <th>num_lab_procedures</th>\n",
       "      <th>num_procedures</th>\n",
       "      <th>num_medications</th>\n",
       "      <th>number_outpatient</th>\n",
       "      <th>...</th>\n",
       "      <th>citoglipton</th>\n",
       "      <th>insulin</th>\n",
       "      <th>glyburide-metformin</th>\n",
       "      <th>glipizide-metformin</th>\n",
       "      <th>glimepiride-pioglitazone</th>\n",
       "      <th>metformin-rosiglitazone</th>\n",
       "      <th>metformin-pioglitazone</th>\n",
       "      <th>change</th>\n",
       "      <th>diabetesMed</th>\n",
       "      <th>30readmit</th>\n",
       "    </tr>\n",
       "  </thead>\n",
       "  <tbody>\n",
       "    <tr>\n",
       "      <th>0</th>\n",
       "      <td>Caucasian</td>\n",
       "      <td>Female</td>\n",
       "      <td>[0-10)</td>\n",
       "      <td>25</td>\n",
       "      <td>1</td>\n",
       "      <td>1</td>\n",
       "      <td>41</td>\n",
       "      <td>0</td>\n",
       "      <td>1</td>\n",
       "      <td>0</td>\n",
       "      <td>...</td>\n",
       "      <td>No</td>\n",
       "      <td>No</td>\n",
       "      <td>No</td>\n",
       "      <td>No</td>\n",
       "      <td>No</td>\n",
       "      <td>No</td>\n",
       "      <td>No</td>\n",
       "      <td>No</td>\n",
       "      <td>No</td>\n",
       "      <td>0</td>\n",
       "    </tr>\n",
       "    <tr>\n",
       "      <th>1</th>\n",
       "      <td>Caucasian</td>\n",
       "      <td>Female</td>\n",
       "      <td>[10-20)</td>\n",
       "      <td>1</td>\n",
       "      <td>7</td>\n",
       "      <td>3</td>\n",
       "      <td>59</td>\n",
       "      <td>0</td>\n",
       "      <td>18</td>\n",
       "      <td>0</td>\n",
       "      <td>...</td>\n",
       "      <td>No</td>\n",
       "      <td>Up</td>\n",
       "      <td>No</td>\n",
       "      <td>No</td>\n",
       "      <td>No</td>\n",
       "      <td>No</td>\n",
       "      <td>No</td>\n",
       "      <td>Ch</td>\n",
       "      <td>Yes</td>\n",
       "      <td>1</td>\n",
       "    </tr>\n",
       "  </tbody>\n",
       "</table>\n",
       "<p>2 rows × 44 columns</p>\n",
       "</div>"
      ],
      "text/plain": [
       "        race  gender      age  discharge_disposition_id  admission_source_id  \\\n",
       "0  Caucasian  Female   [0-10)                        25                    1   \n",
       "1  Caucasian  Female  [10-20)                         1                    7   \n",
       "\n",
       "   time_in_hospital  num_lab_procedures  num_procedures  num_medications  \\\n",
       "0                 1                  41               0                1   \n",
       "1                 3                  59               0               18   \n",
       "\n",
       "   number_outpatient  ...  citoglipton  insulin glyburide-metformin  \\\n",
       "0                  0  ...           No       No                  No   \n",
       "1                  0  ...           No       Up                  No   \n",
       "\n",
       "  glipizide-metformin glimepiride-pioglitazone  metformin-rosiglitazone  \\\n",
       "0                  No                       No                       No   \n",
       "1                  No                       No                       No   \n",
       "\n",
       "  metformin-pioglitazone change diabetesMed 30readmit  \n",
       "0                     No     No          No         0  \n",
       "1                     No     Ch         Yes         1  \n",
       "\n",
       "[2 rows x 44 columns]"
      ]
     },
     "execution_count": 35,
     "metadata": {},
     "output_type": "execute_result"
    }
   ],
   "source": [
    "data1.head(2)"
   ]
  },
  {
   "cell_type": "code",
   "execution_count": 36,
   "metadata": {},
   "outputs": [
    {
     "name": "stderr",
     "output_type": "stream",
     "text": [
      "C:\\Users\\Pooja Panthare\\Anaconda3\\lib\\site-packages\\sklearn\\preprocessing\\data.py:645: DataConversionWarning: Data with input dtype int64 were all converted to float64 by StandardScaler.\n",
      "  return self.partial_fit(X, y)\n",
      "C:\\Users\\Pooja Panthare\\Anaconda3\\lib\\site-packages\\sklearn\\base.py:464: DataConversionWarning: Data with input dtype int64 were all converted to float64 by StandardScaler.\n",
      "  return self.fit(X, **fit_params).transform(X)\n"
     ]
    },
    {
     "data": {
      "text/html": [
       "<div>\n",
       "<style scoped>\n",
       "    .dataframe tbody tr th:only-of-type {\n",
       "        vertical-align: middle;\n",
       "    }\n",
       "\n",
       "    .dataframe tbody tr th {\n",
       "        vertical-align: top;\n",
       "    }\n",
       "\n",
       "    .dataframe thead th {\n",
       "        text-align: right;\n",
       "    }\n",
       "</style>\n",
       "<table border=\"1\" class=\"dataframe\">\n",
       "  <thead>\n",
       "    <tr style=\"text-align: right;\">\n",
       "      <th></th>\n",
       "      <th>discharge_disposition_id</th>\n",
       "      <th>admission_source_id</th>\n",
       "      <th>time_in_hospital</th>\n",
       "      <th>num_lab_procedures</th>\n",
       "      <th>num_procedures</th>\n",
       "      <th>num_medications</th>\n",
       "      <th>number_outpatient</th>\n",
       "      <th>number_emergency</th>\n",
       "      <th>number_inpatient</th>\n",
       "      <th>number_diagnoses</th>\n",
       "      <th>30readmit</th>\n",
       "    </tr>\n",
       "  </thead>\n",
       "  <tbody>\n",
       "    <tr>\n",
       "      <th>count</th>\n",
       "      <td>99343.000000</td>\n",
       "      <td>99343.000000</td>\n",
       "      <td>9.934300e+04</td>\n",
       "      <td>9.934300e+04</td>\n",
       "      <td>9.934300e+04</td>\n",
       "      <td>9.934300e+04</td>\n",
       "      <td>9.934300e+04</td>\n",
       "      <td>9.934300e+04</td>\n",
       "      <td>9.934300e+04</td>\n",
       "      <td>9.934300e+04</td>\n",
       "      <td>99343.000000</td>\n",
       "    </tr>\n",
       "    <tr>\n",
       "      <th>mean</th>\n",
       "      <td>3.517882</td>\n",
       "      <td>5.731083</td>\n",
       "      <td>1.874346e-14</td>\n",
       "      <td>-3.424256e-15</td>\n",
       "      <td>3.449070e-15</td>\n",
       "      <td>-1.776343e-15</td>\n",
       "      <td>1.182191e-13</td>\n",
       "      <td>6.322393e-14</td>\n",
       "      <td>-1.499301e-15</td>\n",
       "      <td>-9.426101e-14</td>\n",
       "      <td>0.471256</td>\n",
       "    </tr>\n",
       "    <tr>\n",
       "      <th>std</th>\n",
       "      <td>5.184359</td>\n",
       "      <td>4.065029</td>\n",
       "      <td>1.000005e+00</td>\n",
       "      <td>1.000005e+00</td>\n",
       "      <td>1.000005e+00</td>\n",
       "      <td>1.000005e+00</td>\n",
       "      <td>1.000005e+00</td>\n",
       "      <td>1.000005e+00</td>\n",
       "      <td>1.000005e+00</td>\n",
       "      <td>1.000005e+00</td>\n",
       "      <td>0.499176</td>\n",
       "    </tr>\n",
       "    <tr>\n",
       "      <th>min</th>\n",
       "      <td>1.000000</td>\n",
       "      <td>1.000000</td>\n",
       "      <td>-1.138438e+00</td>\n",
       "      <td>-2.137026e+00</td>\n",
       "      <td>-7.835647e-01</td>\n",
       "      <td>-1.850439e+00</td>\n",
       "      <td>-2.918627e-01</td>\n",
       "      <td>-2.116216e-01</td>\n",
       "      <td>-5.005746e-01</td>\n",
       "      <td>-3.298145e+00</td>\n",
       "      <td>0.000000</td>\n",
       "    </tr>\n",
       "    <tr>\n",
       "      <th>25%</th>\n",
       "      <td>1.000000</td>\n",
       "      <td>1.000000</td>\n",
       "      <td>-8.015554e-01</td>\n",
       "      <td>-6.071886e-01</td>\n",
       "      <td>-7.835647e-01</td>\n",
       "      <td>-7.386238e-01</td>\n",
       "      <td>-2.918627e-01</td>\n",
       "      <td>-2.116216e-01</td>\n",
       "      <td>-5.005746e-01</td>\n",
       "      <td>-7.221572e-01</td>\n",
       "      <td>0.000000</td>\n",
       "    </tr>\n",
       "    <tr>\n",
       "      <th>50%</th>\n",
       "      <td>1.000000</td>\n",
       "      <td>7.000000</td>\n",
       "      <td>-1.277904e-01</td>\n",
       "      <td>5.574070e-02</td>\n",
       "      <td>-1.962887e-01</td>\n",
       "      <td>-1.209485e-01</td>\n",
       "      <td>-2.918627e-01</td>\n",
       "      <td>-2.116216e-01</td>\n",
       "      <td>-5.005746e-01</td>\n",
       "      <td>3.082380e-01</td>\n",
       "      <td>0.000000</td>\n",
       "    </tr>\n",
       "    <tr>\n",
       "      <th>75%</th>\n",
       "      <td>3.000000</td>\n",
       "      <td>7.000000</td>\n",
       "      <td>5.459746e-01</td>\n",
       "      <td>7.186700e-01</td>\n",
       "      <td>3.909872e-01</td>\n",
       "      <td>4.967267e-01</td>\n",
       "      <td>-2.918627e-01</td>\n",
       "      <td>-2.116216e-01</td>\n",
       "      <td>2.928105e-01</td>\n",
       "      <td>8.234355e-01</td>\n",
       "      <td>1.000000</td>\n",
       "    </tr>\n",
       "    <tr>\n",
       "      <th>max</th>\n",
       "      <td>28.000000</td>\n",
       "      <td>25.000000</td>\n",
       "      <td>3.241035e+00</td>\n",
       "      <td>4.543262e+00</td>\n",
       "      <td>2.740091e+00</td>\n",
       "      <td>8.032365e+00</td>\n",
       "      <td>3.290615e+01</td>\n",
       "      <td>8.083523e+01</td>\n",
       "      <td>1.616051e+01</td>\n",
       "      <td>4.429819e+00</td>\n",
       "      <td>1.000000</td>\n",
       "    </tr>\n",
       "  </tbody>\n",
       "</table>\n",
       "</div>"
      ],
      "text/plain": [
       "       discharge_disposition_id  admission_source_id  time_in_hospital  \\\n",
       "count              99343.000000         99343.000000      9.934300e+04   \n",
       "mean                   3.517882             5.731083      1.874346e-14   \n",
       "std                    5.184359             4.065029      1.000005e+00   \n",
       "min                    1.000000             1.000000     -1.138438e+00   \n",
       "25%                    1.000000             1.000000     -8.015554e-01   \n",
       "50%                    1.000000             7.000000     -1.277904e-01   \n",
       "75%                    3.000000             7.000000      5.459746e-01   \n",
       "max                   28.000000            25.000000      3.241035e+00   \n",
       "\n",
       "       num_lab_procedures  num_procedures  num_medications  number_outpatient  \\\n",
       "count        9.934300e+04    9.934300e+04     9.934300e+04       9.934300e+04   \n",
       "mean        -3.424256e-15    3.449070e-15    -1.776343e-15       1.182191e-13   \n",
       "std          1.000005e+00    1.000005e+00     1.000005e+00       1.000005e+00   \n",
       "min         -2.137026e+00   -7.835647e-01    -1.850439e+00      -2.918627e-01   \n",
       "25%         -6.071886e-01   -7.835647e-01    -7.386238e-01      -2.918627e-01   \n",
       "50%          5.574070e-02   -1.962887e-01    -1.209485e-01      -2.918627e-01   \n",
       "75%          7.186700e-01    3.909872e-01     4.967267e-01      -2.918627e-01   \n",
       "max          4.543262e+00    2.740091e+00     8.032365e+00       3.290615e+01   \n",
       "\n",
       "       number_emergency  number_inpatient  number_diagnoses     30readmit  \n",
       "count      9.934300e+04      9.934300e+04      9.934300e+04  99343.000000  \n",
       "mean       6.322393e-14     -1.499301e-15     -9.426101e-14      0.471256  \n",
       "std        1.000005e+00      1.000005e+00      1.000005e+00      0.499176  \n",
       "min       -2.116216e-01     -5.005746e-01     -3.298145e+00      0.000000  \n",
       "25%       -2.116216e-01     -5.005746e-01     -7.221572e-01      0.000000  \n",
       "50%       -2.116216e-01     -5.005746e-01      3.082380e-01      0.000000  \n",
       "75%       -2.116216e-01      2.928105e-01      8.234355e-01      1.000000  \n",
       "max        8.083523e+01      1.616051e+01      4.429819e+00      1.000000  "
      ]
     },
     "execution_count": 36,
     "metadata": {},
     "output_type": "execute_result"
    }
   ],
   "source": [
    "#Normalization of the data,\n",
    "\n",
    "listnormal = ['time_in_hospital', 'num_lab_procedures', 'num_procedures', 'num_medications',\n",
    "                     'number_outpatient', 'number_emergency', 'number_inpatient', 'number_diagnoses']\n",
    "\n",
    "from sklearn.preprocessing import StandardScaler\n",
    "\n",
    "normal = StandardScaler()\n",
    "\n",
    "data1[listnormal] = normal.fit_transform(data1[listnormal])\n",
    "\n",
    "data1.describe()"
   ]
  },
  {
   "cell_type": "code",
   "execution_count": 37,
   "metadata": {},
   "outputs": [],
   "source": [
    "#Let's store readmitted in y and rest of the columns in X,\n",
    "\n",
    "Y = data1['30readmit']\n",
    "X = data1.drop(['30readmit'], axis =1)\n",
    "X = pd.get_dummies(X)"
   ]
  },
  {
   "cell_type": "markdown",
   "metadata": {},
   "source": [
    "Splitting the data into training and vallidation data sets. The training data will contain 80 % of the data and validation will contain remaining 20%"
   ]
  },
  {
   "cell_type": "code",
   "execution_count": 38,
   "metadata": {},
   "outputs": [],
   "source": [
    "from sklearn.model_selection import train_test_split\n",
    "\n",
    "Xtrain, Xtest, Ytrain, Ytest = train_test_split(X, Y, test_size = .2, \n",
    "                                                random_state = 7, stratify = Y)"
   ]
  },
  {
   "cell_type": "code",
   "execution_count": 39,
   "metadata": {},
   "outputs": [
    {
     "name": "stdout",
     "output_type": "stream",
     "text": [
      "shape of Xtrain,Xtest: (79474, 169) (19869, 169)\n"
     ]
    }
   ],
   "source": [
    "print(\"shape of Xtrain,Xtest:\",Xtrain.shape,Xtest.shape)"
   ]
  },
  {
   "cell_type": "markdown",
   "metadata": {},
   "source": [
    "# Logistic Regression"
   ]
  },
  {
   "cell_type": "code",
   "execution_count": 40,
   "metadata": {},
   "outputs": [
    {
     "name": "stderr",
     "output_type": "stream",
     "text": [
      "C:\\Users\\Pooja Panthare\\Anaconda3\\lib\\site-packages\\sklearn\\linear_model\\logistic.py:433: FutureWarning: Default solver will be changed to 'lbfgs' in 0.22. Specify a solver to silence this warning.\n",
      "  FutureWarning)\n"
     ]
    }
   ],
   "source": [
    "# create model logistic as logistic regression using Sklearn \n",
    "from sklearn.linear_model import LogisticRegression\n",
    "logisticreg = LogisticRegression(tol=1e-7, penalty='l2', C=0.0005)\n",
    "logisticreg.fit(Xtrain, Ytrain)\n",
    "Ylog = logisticreg.predict(Xtest)"
   ]
  },
  {
   "cell_type": "code",
   "execution_count": 41,
   "metadata": {},
   "outputs": [
    {
     "name": "stdout",
     "output_type": "stream",
     "text": [
      " The accuracy of the Logistic regression model: 0.6277115103930746\n"
     ]
    }
   ],
   "source": [
    "# Checking the accuracy of the model \n",
    "print(\" The accuracy of the Logistic regression model:\" ,logisticreg.score(Xtest, Ytest))"
   ]
  },
  {
   "cell_type": "code",
   "execution_count": 42,
   "metadata": {},
   "outputs": [
    {
     "name": "stdout",
     "output_type": "stream",
     "text": [
      "[[8376 2130]\n",
      " [5267 4096]]\n"
     ]
    }
   ],
   "source": [
    "# checking the confusion matrix\n",
    "from sklearn.metrics import confusion_matrix\n",
    "print(confusion_matrix(Ytest, Ylog))"
   ]
  },
  {
   "cell_type": "code",
   "execution_count": 43,
   "metadata": {},
   "outputs": [
    {
     "data": {
      "image/png": "[encoded data removed]",
      "text/plain": [
       "<Figure size 648x648 with 2 Axes>"
      ]
     },
     "metadata": {
      "needs_background": "light"
     },
     "output_type": "display_data"
    }
   ],
   "source": [
    "plt.figure(figsize=(9,9))\n",
    "sns.heatmap(confusion_matrix(Ytest, Ylog), annot=True, fmt=\".3f\", linewidths=.5, square = True, cmap = 'Blues_r');\n",
    "plt.ylabel('Actual label');\n",
    "plt.xlabel('Predicted label');\n",
    "all_sample_title = 'Accuracy Score: {0}'.format(logisticreg.score(Xtest, Ytest))\n",
    "plt.title(all_sample_title, size = 15);"
   ]
  },
  {
   "cell_type": "code",
   "execution_count": 44,
   "metadata": {},
   "outputs": [
    {
     "name": "stdout",
     "output_type": "stream",
     "text": [
      "              precision    recall  f1-score   support\n",
      "\n",
      "          NO       0.61      0.80      0.69     10506\n",
      "         YES       0.66      0.44      0.53      9363\n",
      "\n",
      "   micro avg       0.63      0.63      0.63     19869\n",
      "   macro avg       0.64      0.62      0.61     19869\n",
      "weighted avg       0.63      0.63      0.61     19869\n",
      "\n"
     ]
    }
   ],
   "source": [
    "# Checking the summary of classification\n",
    "from sklearn.metrics import classification_report\n",
    "print(classification_report(Ytest, Ylog, target_names = ['NO', 'YES']))"
   ]
  },
  {
   "cell_type": "code",
   "execution_count": 45,
   "metadata": {},
   "outputs": [],
   "source": [
    "# Checking the performance of model using ROC curve plots\n",
    "YScre = logisticreg.decision_function(Xtest)"
   ]
  },
  {
   "cell_type": "code",
   "execution_count": 46,
   "metadata": {},
   "outputs": [
    {
     "data": {
      "image/png": "[encoded data removed]",
      "text/plain": [
       "<Figure size 432x288 with 1 Axes>"
      ]
     },
     "metadata": {
      "needs_background": "light"
     },
     "output_type": "display_data"
    }
   ],
   "source": [
    "##Computing false and true positive rates\n",
    "from sklearn.metrics import roc_curve\n",
    "\n",
    "fpr, tpr,_=roc_curve(logisticreg.predict(Xtrain),Ytrain,drop_intermediate=False)\n",
    "\n",
    "import matplotlib.pyplot as plt\n",
    "plt.figure()\n",
    "##Creating the ROC,\n",
    "plt.plot(fpr, tpr, color='blue',\n",
    " lw=2, label='ROC curve')\n",
    "##Finding FPR and TPR,\n",
    "plt.plot([0, 1], [0, 1], color='red', lw=2, linestyle='--')\n",
    "##Splecifying the label and title,\n",
    "plt.xlabel('False Positive Rate')\n",
    "plt.ylabel('True Positive Rate')\n",
    "plt.title('ROC curve')\n",
    "plt.show()"
   ]
  },
  {
   "cell_type": "markdown",
   "metadata": {},
   "source": [
    "As seen from the above, the performance of our model is average, not too great. So, let's go ahead and see other models."
   ]
  },
  {
   "cell_type": "markdown",
   "metadata": {},
   "source": [
    "# Random Forest Classifier"
   ]
  },
  {
   "cell_type": "code",
   "execution_count": 59,
   "metadata": {},
   "outputs": [],
   "source": [
    "from sklearn.ensemble import RandomForestClassifier\n",
    "\n",
    "random_forest = RandomForestClassifier(random_state=42,n_estimators=500)\n",
    "random_forest.fit(Xtrain, Ytrain)\n",
    "Yrandforest = random_forest.predict(Xtest)"
   ]
  },
  {
   "cell_type": "code",
   "execution_count": 60,
   "metadata": {},
   "outputs": [],
   "source": [
    "#Calculating the score,\n",
    "scorey =random_forest.predict_proba(Xtest)[:,1]\n",
    "rfpr, rtpr, thresholds = roc_curve(Ytest, scorey)"
   ]
  },
  {
   "cell_type": "code",
   "execution_count": 61,
   "metadata": {},
   "outputs": [
    {
     "name": "stdout",
     "output_type": "stream",
     "text": [
      " Accuracy of Randomeforest classification:  0.6363178821279379\n"
     ]
    }
   ],
   "source": [
    "#Checking the accuracy,\n",
    "\n",
    "print(\" Accuracy of Randomeforest classification: \", random_forest.score(Xtest, Ytest))"
   ]
  },
  {
   "cell_type": "code",
   "execution_count": 62,
   "metadata": {},
   "outputs": [
    {
     "name": "stdout",
     "output_type": "stream",
     "text": [
      "[[7554 2952]\n",
      " [4274 5089]]\n"
     ]
    }
   ],
   "source": [
    "#Printing the confusion matrix,\n",
    "print(confusion_matrix(Ytest, Yrandforest))"
   ]
  },
  {
   "cell_type": "code",
   "execution_count": null,
   "metadata": {},
   "outputs": [],
   "source": [
    "plt.figure(figsize=(9,9))\n",
    "sns.heatmap(confusion_matrix(Ytest, Yrandforest), annot=True, fmt=\".3f\", linewidths=.5, square = True, cmap = 'Reds_r');\n",
    "plt.ylabel('Actual label');\n",
    "plt.xlabel('Predicted label');\n",
    "all_sample_title = 'Accuracy Score: {0}'.format(random_forest.score(Xtest, Ytest))\n",
    "plt.title(all_sample_title, size = 15);"
   ]
  },
  {
   "cell_type": "code",
   "execution_count": 63,
   "metadata": {},
   "outputs": [
    {
     "name": "stdout",
     "output_type": "stream",
     "text": [
      "              precision    recall  f1-score   support\n",
      "\n",
      "          NO       0.64      0.72      0.68     10506\n",
      "         YES       0.63      0.54      0.58      9363\n",
      "\n",
      "   micro avg       0.64      0.64      0.64     19869\n",
      "   macro avg       0.64      0.63      0.63     19869\n",
      "weighted avg       0.64      0.64      0.63     19869\n",
      "\n"
     ]
    }
   ],
   "source": [
    "print(classification_report(Ytest, Yrandforest, target_names = ['NO', 'YES']))"
   ]
  },
  {
   "cell_type": "code",
   "execution_count": 64,
   "metadata": {},
   "outputs": [
    {
     "data": {
      "image/png": "[encoded data removed]",
      "text/plain": [
       "<Figure size 720x432 with 1 Axes>"
      ]
     },
     "metadata": {
      "needs_background": "light"
     },
     "output_type": "display_data"
    }
   ],
   "source": [
    "#Determining which features are most important,\n",
    "feature_names = Xtrain.columns\n",
    "feature_imports = random_forest.feature_importances_\n",
    "most_imp_features = pd.DataFrame([f for f in zip(feature_names,feature_imports)], columns=[\"Feature\", \"Importance\"]).nlargest(10, \"Importance\")\n",
    "most_imp_features.sort_values(by=\"Importance\", inplace=True)\n",
    "plt.figure(figsize=(10,6))\n",
    "plt.barh(range(len(most_imp_features)), most_imp_features.Importance, align='center', alpha=0.8)\n",
    "plt.yticks(range(len(most_imp_features)), most_imp_features.Feature, fontsize=14)\n",
    "plt.xlabel('Importance')\n",
    "plt.title('Most important features - Random Forest')\n",
    "plt.show()"
   ]
  },
  {
   "cell_type": "markdown",
   "metadata": {},
   "source": [
    "# AdaBoosted Classification model"
   ]
  },
  {
   "cell_type": "code",
   "execution_count": 65,
   "metadata": {},
   "outputs": [],
   "source": [
    "#Creating a AdaBoosted Classification model,\n",
    "from sklearn.ensemble import AdaBoostClassifier\n",
    "adaclass = AdaBoostClassifier(n_estimators = 20, learning_rate = 0.2, random_state = 123)\n",
    "adaclass.fit(Xtrain, Ytrain)\n",
    "yadaclas = adaclass.predict(Xtest)"
   ]
  },
  {
   "cell_type": "code",
   "execution_count": 66,
   "metadata": {},
   "outputs": [
    {
     "name": "stdout",
     "output_type": "stream",
     "text": [
      "The accurary of AdaBoosted Classification model:  0.6254466757260053\n"
     ]
    }
   ],
   "source": [
    "print(\"The accurary of AdaBoosted Classification model: \", adaclass.score(Xtest, Ytest))"
   ]
  },
  {
   "cell_type": "code",
   "execution_count": 67,
   "metadata": {},
   "outputs": [
    {
     "name": "stdout",
     "output_type": "stream",
     "text": [
      "[[8328 2178]\n",
      " [5264 4099]]\n"
     ]
    }
   ],
   "source": [
    "#Checking the confusion matrix,\n",
    "print(confusion_matrix(Ytest, yadaclas))"
   ]
  },
  {
   "cell_type": "code",
   "execution_count": 68,
   "metadata": {},
   "outputs": [
    {
     "data": {
      "image/png": "[encoded data removed]",
      "text/plain": [
       "<Figure size 648x648 with 2 Axes>"
      ]
     },
     "metadata": {
      "needs_background": "light"
     },
     "output_type": "display_data"
    }
   ],
   "source": [
    "plt.figure(figsize=(9,9))\n",
    "sns.heatmap(confusion_matrix(Ytest, yadaclas), annot=True, fmt=\".3f\", linewidths=.5, square = True, cmap = 'Greens_r');\n",
    "plt.ylabel('Actual label');\n",
    "plt.xlabel('Predicted label');\n",
    "all_sample_title = 'Accuracy Score: {0}'.format(adaclass.score(Xtest, Ytest))\n",
    "plt.title(all_sample_title, size = 15);"
   ]
  },
  {
   "cell_type": "code",
   "execution_count": 69,
   "metadata": {},
   "outputs": [
    {
     "name": "stdout",
     "output_type": "stream",
     "text": [
      "              precision    recall  f1-score   support\n",
      "\n",
      "          NO       0.61      0.79      0.69     10506\n",
      "         YES       0.65      0.44      0.52      9363\n",
      "\n",
      "   micro avg       0.63      0.63      0.63     19869\n",
      "   macro avg       0.63      0.62      0.61     19869\n",
      "weighted avg       0.63      0.63      0.61     19869\n",
      "\n"
     ]
    }
   ],
   "source": [
    "#Checking recall, f1 :-\n",
    "print(classification_report(Ytest, yadaclas, target_names = ['NO', 'YES']))"
   ]
  },
  {
   "cell_type": "code",
   "execution_count": 70,
   "metadata": {},
   "outputs": [],
   "source": [
    "# calculate the False Positive and True Positive rate to get the ROC curve  \n",
    "yadaclas = adaclass.decision_function(Xtest)\n",
    "fpr_adaclass, tpr_adaclass, thresholds = roc_curve(Ytest, yadaclas)"
   ]
  },
  {
   "cell_type": "markdown",
   "metadata": {},
   "source": [
    "The accuracy can be improved by tuning the model, so let's do that."
   ]
  },
  {
   "cell_type": "markdown",
   "metadata": {},
   "source": [
    "# Hyperparameters Tunning for AdaBoosted"
   ]
  },
  {
   "cell_type": "code",
   "execution_count": null,
   "metadata": {},
   "outputs": [],
   "source": [
    "# Doing parameter tuning,\n",
    "from sklearn.ensemble import AdaBoostClassifier\n",
    "from sklearn.model_selection import GridSearchCV\n",
    "\n",
    "ada_boost = AdaBoostClassifier(n_estimators = 20, learning_rate = 0.2, random_state = 123)\n",
    "gridparam ={\n",
    "        'n_estimators': [100, 200,500],\n",
    "        'learning_rate': [0.2,0.5,1.0],\n",
    "},\n",
    "adagrid = GridSearchCV(ada_boost, cv=3, n_jobs=3, param_grid=gridparam)\n",
    "adagrid.fit(Xtrain, Ytrain)"
   ]
  },
  {
   "cell_type": "code",
   "execution_count": null,
   "metadata": {},
   "outputs": [],
   "source": [
    "#The accuracy of the model with the best parameters\n",
    "adagrid.score(Xtest, Ytest)"
   ]
  },
  {
   "cell_type": "code",
   "execution_count": null,
   "metadata": {},
   "outputs": [],
   "source": [
    "gridyada = adagrid.predict(Xtest)\n",
    "print(classification_report(Ytest, gridyada, target_names = ['NO', 'YES']))"
   ]
  },
  {
   "cell_type": "code",
   "execution_count": null,
   "metadata": {},
   "outputs": [],
   "source": [
    "ygridadascore = adagrid.decision_function(Xtest)\n",
    "fpr_adamod, tpr_adamod, thresholds_grid_ada = roc_curve(Ytest, ygridadascore)"
   ]
  },
  {
   "cell_type": "markdown",
   "metadata": {},
   "source": [
    "# Decision tree"
   ]
  },
  {
   "cell_type": "code",
   "execution_count": null,
   "metadata": {},
   "outputs": [],
   "source": [
    "import numpy as np\n",
    "import pandas as pd\n",
    "from sklearn.cross_validation import train_test_split\n",
    "from sklearn.tree import DecisionTreeClassifier\n",
    "from sklearn.metrics import accuracy_score\n",
    "from sklearn import tree"
   ]
  },
  {
   "cell_type": "code",
   "execution_count": null,
   "metadata": {},
   "outputs": [],
   "source": [
    "clfgini = DecisionTreeClassifier(criterion = \"gini\", random_state = 100,\n",
    "                               max_depth=3, min_samples_leaf=5)\n",
    "clfgini.fit(Xtrain, Ytrain)"
   ]
  },
  {
   "cell_type": "code",
   "execution_count": null,
   "metadata": {},
   "outputs": [],
   "source": [
    "ypreddt = clfgini.predict(Xtest)\n",
    "ypreddt"
   ]
  },
  {
   "cell_type": "code",
   "execution_count": null,
   "metadata": {},
   "outputs": [],
   "source": [
    "print( \"Accuracy is \", accuracy_score(Ytest,ypreddt)*100)"
   ]
  },
  {
   "cell_type": "markdown",
   "metadata": {},
   "source": [
    "# Comparing the models"
   ]
  },
  {
   "cell_type": "code",
   "execution_count": null,
   "metadata": {},
   "outputs": [],
   "source": [
    "fpr_log, tpr_log, thresholds = roc_curve(Ytest, YScre)#logistic regression\n",
    "fpr_rf, tpr_rf, thresholds = roc_curve(Ytest, Yrandforest)#random forest classifier\n",
    "fpr_adaclf, tpr_adaclf, thresholds = roc_curve(Ytest, yadaclas)#Ada boost classifier\n",
    "fpr_adamod, tpr_adamod, thresholds = roc_curve(Ytest,ygridadascore )#Hyperparameters Tunning for AdaBoosted\n",
    "fpr_dt, tpr_dt, thresholds = roc_curve(Ytest,ypreddt )#Decisoin Tree"
   ]
  },
  {
   "cell_type": "code",
   "execution_count": null,
   "metadata": {},
   "outputs": [],
   "source": [
    "#compare the ROC curve between different models\n",
    "plt.figure(figsize=(8,8))\n",
    "plt.plot(fpr_log, tpr_log, label='Logistic regression')\n",
    "plt.plot(fpr_adaclf, tpr_adaclf, label='Adaboost Classifier')\n",
    "plt.plot(fpr_rf, tpr_rf, label='Randomforest Classifier')\n",
    "plt.plot(fpr_adamod, tpr_adamod, label='Adaboost with the best Pars')\n",
    "plt.plot(fpr_dt, tpr_dt, label='Decision Tree')\n",
    "plt.plot([0, 1], [0, 1], linestyle='--', lw=2, color='r',\n",
    "         label='random', alpha=.8)\n",
    "plt.xlim([0,1])\n",
    "plt.ylim([0,1])\n",
    "plt.xticks(np.arange(0,1.1,0.1))\n",
    "plt.yticks(np.arange(0,1.1,0.1))\n",
    "plt.grid()\n",
    "plt.legend()\n",
    "plt.axes().set_aspect('equal')\n",
    "plt.xlabel('False Positive Rate')\n",
    "plt.ylabel('True Positive Rate')"
   ]
  },
  {
   "cell_type": "code",
   "execution_count": null,
   "metadata": {},
   "outputs": [],
   "source": [
    "print(\" Accuracy of Logistic regression model:\" ,logisticreg.score(Xtest, Ytest)*100)\n",
    "print(\"Accuracy of Random forest classification: \", random_forest.score(Xtest, Ytest)*100)\n",
    "print(\"Accuracy of AdaBoosted Classification model: \", adaclass.score(Xtest, Ytest)*100)\n",
    "print(\"Accuracy of Hyperparameter Tuning AdaBoosted Classification model: \", adagrid.score(Xtest, Ytest)*100)\n",
    "print( \"Accuracy of Decision Tree \", accuracy_score(Ytest,ypreddt)*100)"
   ]
  },
  {
   "cell_type": "markdown",
   "metadata": {},
   "source": [
    "Summary\n",
    "\n",
    "1.From the above we can see that the accuracy levels of AdaBoost after tuning and Random forest is among the best, about 64%.\n",
    "\n",
    "2.The accuracy of all the models are similar and ranges between 62-64%. Further, applying more pre-processing techniques might help. The dataset needs more data cleaning and data fitting to achieve a higher degree of accuracy.\n",
    "\n",
    "3.Looking at the false positives and the recall value which is approx 60% in Random forest, it gives us better results than the rest.\n",
    "\n",
    "4.The above visual helps us in seeing the accuracy and the ROC curver further helps us decide the performance of different models."
   ]
  }
 ],
 "metadata": {
  "kernelspec": {
   "display_name": "Python 3",
   "language": "python",
   "name": "python3"
  },
  "language_info": {
   "codemirror_mode": {
    "name": "ipython",
    "version": 3
   },
   "file_extension": ".py",
   "mimetype": "text/x-python",
   "name": "python",
   "nbconvert_exporter": "python",
   "pygments_lexer": "ipython3",
   "version": "3.7.3"
  }
 },
 "nbformat": 4,
 "nbformat_minor": 2
}
